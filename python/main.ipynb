{
 "cells": [
  {
   "cell_type": "code",
   "execution_count": 94,
   "id": "ea198891",
   "metadata": {},
   "outputs": [],
   "source": [
    "import psycopg2\n",
    "import pandas as pd\n",
    "from metrics_dict import metrics_dict\n",
    "\n",
    "connection = psycopg2.connect(\n",
    "        host=\"172.22.0.40\",\n",
    "        port=5432,\n",
    "        database=\"metrics\",\n",
    "        user=\"admin\",\n",
    "        password=\"admin123\"\n",
    "        )"
   ]
  },
  {
   "cell_type": "code",
   "execution_count": 78,
   "id": "176f58aa",
   "metadata": {},
   "outputs": [],
   "source": [
    "import pandas as pd\n",
    "aux = None\n",
    "with connection.cursor() as cur:\n",
    "        cur.execute(\"SELECT * FROM metric\")\n",
    "        for linha in cur.fetchall():\n",
    "            aux = pd.DataFrame(linha)"
   ]
  },
  {
   "cell_type": "code",
   "execution_count": 58,
   "id": "40815824",
   "metadata": {},
   "outputs": [],
   "source": [
    "connection.close()"
   ]
  },
  {
   "cell_type": "code",
   "execution_count": 103,
   "id": "d41b06f6",
   "metadata": {},
   "outputs": [
    {
     "data": {
      "text/html": [
       "<div>\n",
       "<style scoped>\n",
       "    .dataframe tbody tr th:only-of-type {\n",
       "        vertical-align: middle;\n",
       "    }\n",
       "\n",
       "    .dataframe tbody tr th {\n",
       "        vertical-align: top;\n",
       "    }\n",
       "\n",
       "    .dataframe thead th {\n",
       "        text-align: right;\n",
       "    }\n",
       "</style>\n",
       "<table border=\"1\" class=\"dataframe\">\n",
       "  <thead>\n",
       "    <tr style=\"text-align: right;\">\n",
       "      <th></th>\n",
       "      <th>time</th>\n",
       "      <th>fivegs_amffunction_rm_registeredsubnbr</th>\n",
       "      <th>fivegs_amffunction_rm_regmobreq</th>\n",
       "      <th>fivegs_amffunction_rm_regmobsucc</th>\n",
       "      <th>fivegs_amffunction_rm_regmobfail</th>\n",
       "      <th>fivegs_smffunction_sm_sessionnbr</th>\n",
       "      <th>fivegs_smffunction_sm_pdusessioncreationreq</th>\n",
       "      <th>fivegs_smffunction_sm_pdusessioncreationsucc</th>\n",
       "      <th>fivegs_ep_n3_gtp_indatapktn3upf</th>\n",
       "      <th>fivegs_ep_n3_gtp_outdatapktn3upf</th>\n",
       "      <th>fivegs_upffunction_upf_sessionnbr</th>\n",
       "      <th>fivegs_smffunction_upf_qos_flow_nbr</th>\n",
       "      <th>fivegs_upffunction_sm_n4sessionreport</th>\n",
       "      <th>fivegs_upffunction_sm_n4sessionreportsucc</th>\n",
       "      <th>fivegs_upffunction_sm_n4sessionestabreq</th>\n",
       "      <th>fivegs_upffunction_sm_n4sessionestabfail</th>\n",
       "      <th>softmodern_bler_dl</th>\n",
       "      <th>softmodern_bler_ul</th>\n",
       "      <th>softmodern_rsrp</th>\n",
       "      <th>pfcp_sessions_active</th>\n",
       "    </tr>\n",
       "  </thead>\n",
       "  <tbody>\n",
       "  </tbody>\n",
       "</table>\n",
       "</div>"
      ],
      "text/plain": [
       "Empty DataFrame\n",
       "Columns: [time, fivegs_amffunction_rm_registeredsubnbr, fivegs_amffunction_rm_regmobreq, fivegs_amffunction_rm_regmobsucc, fivegs_amffunction_rm_regmobfail, fivegs_smffunction_sm_sessionnbr, fivegs_smffunction_sm_pdusessioncreationreq, fivegs_smffunction_sm_pdusessioncreationsucc, fivegs_ep_n3_gtp_indatapktn3upf, fivegs_ep_n3_gtp_outdatapktn3upf, fivegs_upffunction_upf_sessionnbr, fivegs_smffunction_upf_qos_flow_nbr, fivegs_upffunction_sm_n4sessionreport, fivegs_upffunction_sm_n4sessionreportsucc, fivegs_upffunction_sm_n4sessionestabreq, fivegs_upffunction_sm_n4sessionestabfail, softmodern_bler_dl, softmodern_bler_ul, softmodern_rsrp, pfcp_sessions_active]\n",
       "Index: []"
      ]
     },
     "execution_count": 103,
     "metadata": {},
     "output_type": "execute_result"
    }
   ],
   "source": [
    "with connection.cursor() as cur:\n",
    "    cur.execute(\"SELECT * FROM metric\")\n",
    "    colnames = [desc[0] for desc in cur.description] \n",
    "    rows = cur.fetchall()\n",
    "    df = pd.DataFrame(rows, columns=colnames)\n",
    "df\n"
   ]
  },
  {
   "cell_type": "code",
   "execution_count": null,
   "id": "7aa28d1b",
   "metadata": {},
   "outputs": [],
   "source": []
  },
  {
   "cell_type": "code",
   "execution_count": null,
   "id": "2977d9c2",
   "metadata": {},
   "outputs": [],
   "source": []
  }
 ],
 "metadata": {
  "kernelspec": {
   "display_name": "base",
   "language": "python",
   "name": "python3"
  },
  "language_info": {
   "codemirror_mode": {
    "name": "ipython",
    "version": 3
   },
   "file_extension": ".py",
   "mimetype": "text/x-python",
   "name": "python",
   "nbconvert_exporter": "python",
   "pygments_lexer": "ipython3",
   "version": "3.12.7"
  }
 },
 "nbformat": 4,
 "nbformat_minor": 5
}

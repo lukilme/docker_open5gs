{
 "cells": [
  {
   "cell_type": "code",
   "execution_count": 39,
   "id": "ea198891",
   "metadata": {},
   "outputs": [],
   "source": [
    "import psycopg2\n",
    "import pandas as pd\n",
    "from metrics_dict import metrics_dict\n",
    "\n",
    "connection = psycopg2.connect(\n",
    "        host=\"172.22.0.40\",\n",
    "        port=5432,\n",
    "        database=\"metrics\",\n",
    "        user=\"admin\",\n",
    "        password=\"admin123\"\n",
    "        )"
   ]
  },
  {
   "cell_type": "code",
   "execution_count": 40,
   "id": "176f58aa",
   "metadata": {},
   "outputs": [
    {
     "name": "stdout",
     "output_type": "stream",
     "text": [
      "(datetime.datetime(2025, 7, 3, 2, 26, 15, tzinfo=datetime.timezone.utc), 0, 0, 0, 0, 0, 0, 0, 0, 0, 0, 0, 0, 0, 0, 0, 0, 0, 0)\n",
      "(datetime.datetime(2025, 7, 3, 2, 22, 31, tzinfo=datetime.timezone.utc), 0, 0, 0, 0, 0, 0, 0, 0, 0, 0, 0, 0, 0, 0, 0, 0, 0, 0)\n",
      "(datetime.datetime(2025, 7, 3, 2, 24, 30, tzinfo=datetime.timezone.utc), 0, 0, 0, 0, 0, 0, 0, 0, 0, 0, 0, 0, 0, 0, 0, 0, 0, 0)\n",
      "(datetime.datetime(2025, 7, 3, 2, 22, 45, tzinfo=datetime.timezone.utc), 0, 0, 0, 0, 0, 0, 0, 0, 0, 0, 0, 0, 0, 0, 0, 0, 0, 0)\n",
      "(datetime.datetime(2025, 7, 3, 2, 26, 30, tzinfo=datetime.timezone.utc), 0, 0, 0, 0, 0, 0, 0, 0, 0, 0, 0, 0, 0, 0, 0, 0, 0, 0)\n",
      "(datetime.datetime(2025, 7, 3, 2, 24, 45, tzinfo=datetime.timezone.utc), 0, 0, 0, 0, 0, 0, 0, 0, 0, 0, 0, 0, 0, 0, 0, 0, 0, 0)\n",
      "(datetime.datetime(2025, 7, 3, 2, 23, tzinfo=datetime.timezone.utc), 0, 0, 0, 0, 0, 0, 0, 0, 0, 0, 0, 0, 0, 0, 0, 0, 0, 0)\n",
      "(datetime.datetime(2025, 7, 3, 2, 25, tzinfo=datetime.timezone.utc), 0, 0, 0, 0, 0, 0, 0, 0, 0, 0, 0, 0, 0, 0, 0, 0, 0, 0)\n",
      "(datetime.datetime(2025, 7, 3, 2, 23, 15, tzinfo=datetime.timezone.utc), 0, 0, 0, 0, 0, 0, 0, 0, 0, 0, 0, 0, 0, 0, 0, 0, 0, 0)\n",
      "(datetime.datetime(2025, 7, 3, 2, 26, 45, tzinfo=datetime.timezone.utc), 0, 0, 0, 0, 0, 0, 0, 0, 0, 0, 0, 0, 0, 0, 0, 0, 0, 0)\n",
      "(datetime.datetime(2025, 7, 3, 2, 23, 30, tzinfo=datetime.timezone.utc), 0, 0, 0, 0, 0, 0, 0, 0, 0, 0, 0, 0, 0, 0, 0, 0, 0, 0)\n",
      "(datetime.datetime(2025, 7, 3, 2, 25, 15, tzinfo=datetime.timezone.utc), 0, 0, 0, 0, 0, 0, 0, 0, 0, 0, 0, 0, 0, 0, 0, 0, 0, 0)\n",
      "(datetime.datetime(2025, 7, 3, 2, 23, 45, tzinfo=datetime.timezone.utc), 0, 0, 0, 0, 0, 0, 0, 0, 0, 0, 0, 0, 0, 0, 0, 0, 0, 0)\n",
      "(datetime.datetime(2025, 7, 3, 2, 27, tzinfo=datetime.timezone.utc), 0, 0, 0, 0, 0, 0, 0, 0, 0, 0, 0, 0, 0, 0, 0, 0, 0, 0)\n",
      "(datetime.datetime(2025, 7, 3, 2, 25, 30, tzinfo=datetime.timezone.utc), 0, 0, 0, 0, 0, 0, 0, 0, 0, 0, 0, 0, 0, 0, 0, 0, 0, 0)\n",
      "(datetime.datetime(2025, 7, 3, 2, 24, tzinfo=datetime.timezone.utc), 0, 0, 0, 0, 0, 0, 0, 0, 0, 0, 0, 0, 0, 0, 0, 0, 0, 0)\n",
      "(datetime.datetime(2025, 7, 3, 2, 27, 15, tzinfo=datetime.timezone.utc), 0, 0, 0, 0, 0, 0, 0, 0, 0, 0, 0, 0, 0, 0, 0, 0, 0, 0)\n",
      "(datetime.datetime(2025, 7, 3, 2, 25, 45, tzinfo=datetime.timezone.utc), 0, 0, 0, 0, 0, 0, 0, 0, 0, 0, 0, 0, 0, 0, 0, 0, 0, 0)\n",
      "(datetime.datetime(2025, 7, 3, 2, 24, 15, tzinfo=datetime.timezone.utc), 0, 0, 0, 0, 0, 0, 0, 0, 0, 0, 0, 0, 0, 0, 0, 0, 0, 0)\n",
      "(datetime.datetime(2025, 7, 3, 2, 26, tzinfo=datetime.timezone.utc), 0, 0, 0, 0, 0, 0, 0, 0, 0, 0, 0, 0, 0, 0, 0, 0, 0, 0)\n",
      "(datetime.datetime(2025, 7, 3, 2, 27, 30, tzinfo=datetime.timezone.utc), 0, 0, 0, 0, 0, 0, 0, 0, 0, 0, 0, 0, 0, 0, 0, 0, 0, 0)\n"
     ]
    }
   ],
   "source": [
    "import pandas as pd\n",
    "\n",
    "with connection.cursor() as cur:\n",
    "        cur.execute(\"SELECT * FROM metric\")\n",
    "        for linha in cur.fetchall():\n",
    "            print(linha)"
   ]
  },
  {
   "cell_type": "code",
   "execution_count": 37,
   "id": "40815824",
   "metadata": {},
   "outputs": [],
   "source": [
    "connection.close()"
   ]
  },
  {
   "cell_type": "code",
   "execution_count": null,
   "id": "d41b06f6",
   "metadata": {},
   "outputs": [],
   "source": []
  }
 ],
 "metadata": {
  "kernelspec": {
   "display_name": "base",
   "language": "python",
   "name": "python3"
  },
  "language_info": {
   "codemirror_mode": {
    "name": "ipython",
    "version": 3
   },
   "file_extension": ".py",
   "mimetype": "text/x-python",
   "name": "python",
   "nbconvert_exporter": "python",
   "pygments_lexer": "ipython3",
   "version": "3.12.7"
  }
 },
 "nbformat": 4,
 "nbformat_minor": 5
}
